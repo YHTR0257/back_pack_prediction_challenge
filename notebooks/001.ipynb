{
 "cells": [
  {
   "cell_type": "markdown",
   "metadata": {},
   "source": [
    "# Configs\n",
    "設定を保存していく"
   ]
  },
  {
   "cell_type": "code",
   "execution_count": null,
   "metadata": {},
   "outputs": [],
   "source": [
    "import os\n",
    "import sys\n",
    "import json\n",
    "import numpy as np\n",
    "import pandas as pd\n",
    "import matplotlib.pyplot as plt\n",
    "import seaborn as sns\n",
    "from sklearn import preprocessing\n",
    "from sklearn.model_selection import train_test_split\n",
    "from sklearn.metrics import mean_absolute_percentage_error as mape\n",
    "\n",
    "class Config:\n",
    "    def __init__(self):\n",
    "        self.NB = '001'\n",
    "        self.path_train_data = '../datas/train.csv'\n",
    "        self.path_test_data = '../datas/test.csv'\n",
    "        self.path_submission = f'../submissions/submission{self.NB}.csv'\n",
    "        self.result_pathname = f'../results/{self.NB}'\n",
    "        self.data_pathname = f'../datas/{self.NB}'\n",
    "        self.modified_data_pathname = f'../modified_datas/{self.NB}'\n",
    "        self.submit_col = ['id', 'num_sold']\n",
    "        self.target_col = 'num_sold'\n",
    "        self.n_estimators = 100\n",
    "        self.early_stopping_rounds = 150\n",
    "        self.cv_folds = 5\n",
    "        self.ramdom_state = 1234\n",
    "        self.settings = {\n",
    "            'ratio_cols': ['store_sold_ratio', 'product_sold_ratio', 'country_sold_ratio'],\n",
    "            'pred_cols': ['store', 'product', 'country'],\n",
    "            'train_col': ['store', 'product', 'country', 'month','day','year','weekday','week','quarter']\n",
    "        }\n",
    "\n",
    "config = Config()"
   ]
  },
  {
   "cell_type": "markdown",
   "metadata": {},
   "source": []
  }
 ],
 "metadata": {
  "kernelspec": {
   "display_name": "datasci",
   "language": "python",
   "name": "python3"
  },
  "language_info": {
   "name": "python",
   "version": "3.13.1"
  }
 },
 "nbformat": 4,
 "nbformat_minor": 2
}
